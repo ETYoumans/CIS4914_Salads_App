{
 "cells": [
  {
   "cell_type": "markdown",
   "id": "6b923154",
   "metadata": {},
   "source": [
    "# Overview\n",
    "\n",
    "We’re building an iOS app that uses a Packet Tunnel VPN extension to capture all network traffic on the device, log useful metadata, and analyze it with a machine learning model to detect location-sharing services. The extension will handle traffic interception, buffering, and log rotation, while the host app manages VPN control, feature extraction, and Core ML inference. To make this work, we’ll cover project setup and entitlements, implementing the packet tunnel, designing buffers and file logging, and setting up communication between the extension and the app. We’ll also go through how to extract meaningful features from packet metadata and how to integrate an ML model for classification. Finally, we’ll discuss testing strategies and common pitfalls so the system works reliably without breaking device connectivity.\n"
   ]
  },
  {
   "cell_type": "markdown",
   "id": "f26c2404",
   "metadata": {},
   "source": [
    "# Project Setup and Entitlements\n",
    "\n",
    "### Setup\n",
    "\n",
    "1) Create a new Xcode project\n",
    "    * This is the Host Application -> It will run the VPN and ML model\n",
    "2) Add a new target -> choose network extension -> select Packet Tunnel as the type\n",
    "    * This will create an extension which can run separately from the app\n",
    "    * There will be two bundles now, the app and the extension\n",
    "3) Enable App Groups for both the app and the extension\n",
    "    * Lets them share files\n",
    "4) Enable Network Extensions\n",
    "    * Signing and Capabilities -> add Network Extensions\n",
    "    * Select Packet Tunnel Provider\n",
    "\n",
    "### Entitlements\n",
    "\n",
    "Extension:\n",
    "* Network Extension Key\n",
    "    * Packet Tunnel Provider\n",
    "* Security Application Groups\n",
    "    * My App’s Group\n",
    "    \n",
    "Application:\n",
    "* Security Application Groups\n",
    "    * My App’s Group\n"
   ]
  },
  {
   "cell_type": "markdown",
   "id": "cb7ce6b5",
   "metadata": {},
   "source": [
    "# Packet Tunnel Extension Basics\n",
    "\n",
    "The Packet Tunnel extension (NEPacketTunnelProvider) is the engine that captures all device traffic. It acts like a VPN client, but instead of sending packets to a remote server, you can intercept them, log metadata, and then forward them back out.\n",
    "\n",
    "### Core Lifecycle\n",
    "\n",
    "1. startTunnel(options:completionHandler:)\n",
    "    * Called when the system starts your VPN.\n",
    "    * You configure network settings here (like IP and routing).\n",
    "    * You also start your packet reading loop.\n",
    "2. packetFlow.readPackets(...)\n",
    "    * The main function that hands you raw packets.\n",
    "    * You parse and log metadata here.\n",
    "3. packetFlow.writePackets(...)\n",
    "    * Must be called to send packets onward; otherwise, you’ll break connectivity.\n",
    "4. stopTunnel(with:completionHandler:)\n",
    "    * Cleanup when VPN stops."
   ]
  },
  {
   "cell_type": "code",
   "execution_count": null,
   "id": "280a2b80",
   "metadata": {
    "vscode": {
     "languageId": "plaintext"
    }
   },
   "outputs": [],
   "source": [
    "let ipv4 = NEIPv4Settings(addresses: [\"10.0.0.2\"], subnetMasks: [\"255.255.255.0\"])\n",
    "ipv4.includedRoutes = [NEIPv4Route.default()]"
   ]
  },
  {
   "cell_type": "markdown",
   "id": "f10ca6ec",
   "metadata": {},
   "source": [
    "Addresses: The Fake IP you give to the VPN interface\n",
    "\n",
    "Inclulded Routes: NEIPv4Route.default() -> All traffic"
   ]
  },
  {
   "cell_type": "code",
   "execution_count": null,
   "id": "36831016",
   "metadata": {
    "vscode": {
     "languageId": "plaintext"
    }
   },
   "outputs": [],
   "source": [
    "setTunnelNetworkSettings(settings) { error in ... }"
   ]
  },
  {
   "cell_type": "markdown",
   "id": "ec69f22a",
   "metadata": {},
   "source": [
    "This appies the settings and tells iOS to end every packet through the extension"
   ]
  },
  {
   "cell_type": "code",
   "execution_count": null,
   "id": "301b9589",
   "metadata": {
    "vscode": {
     "languageId": "plaintext"
    }
   },
   "outputs": [],
   "source": [
    "packetFlow.readPackets { packets, protocols in ... }\n",
    "packetFlow.writePackets(packets, withProtocols: protocols)"
   ]
  },
  {
   "cell_type": "markdown",
   "id": "9866438a",
   "metadata": {},
   "source": [
    "This will read and do simple parsing of the packet stream\n",
    "\n",
    "Then it will forward the packet"
   ]
  },
  {
   "cell_type": "code",
   "execution_count": null,
   "id": "b1dc930a",
   "metadata": {
    "vscode": {
     "languageId": "plaintext"
    }
   },
   "outputs": [],
   "source": [
    "startTunnel → configure fake IP + routes\n",
    "\n",
    "loop:\n",
    "    readPackets → parse + log → writePackets\n",
    "    \n",
    "stopTunnel → cleanup\n"
   ]
  },
  {
   "cell_type": "markdown",
   "id": "ac0aa63d",
   "metadata": {},
   "source": [
    "# Time-Based Ring Buffer / In Memory Logging\n",
    "\n",
    "The ring buffer is an in-memory queue that always keeps the last X seconds of packet metadata entries.\n",
    "\n",
    "1. On every insert, we will push the current time and the packet\n",
    "2. Periodically (or on every insert), we will remove the oldest packets\n",
    "3. When the ML models runs, we will send the entire queue\n",
    "\n",
    "Time Based is necessary due to the nature of the project. We will have a variable flow of packets and packets can appear inbetween location checks (even if it is unlikely).\n",
    "\n",
    "This will be a custom datastructure using Swift Arrays. We can adjust to Linked Lists or Circular buffers if speed is necessary"
   ]
  },
  {
   "cell_type": "markdown",
   "id": "d72e6deb",
   "metadata": {},
   "source": [
    "# On Disk Storage\n",
    "\n",
    "The in-memory buffer is only for short term storage.\n",
    "\n",
    "Since the packet tunnel extension is sandboxed seperately from the app, we need to make an App Group Container."
   ]
  },
  {
   "cell_type": "code",
   "execution_count": null,
   "id": "929c637f",
   "metadata": {
    "vscode": {
     "languageId": "plaintext"
    }
   },
   "outputs": [],
   "source": [
    "group.com.company.AppName\n",
    "\n",
    "FileManager.default.containerURL(forSecurityApplicationGroupIdentifier: \"group.com.company.AppName\")\n",
    "\n",
    "let logFile = url.appendingPathComponent(\"packets.log\")\n",
    "try data.append(to: logFile)\n",
    "\n"
   ]
  },
  {
   "cell_type": "markdown",
   "id": "af432a34",
   "metadata": {},
   "source": [
    "The App Group identifier will look like the above, which is followed by how each process can access the data.\n",
    "\n",
    "The extension will append ML data, which can include timestamps, and packets involved.\n",
    "The host app can open the files later for debugging or showing to the user.\n",
    "\n",
    "The final two lines are used to append log data to a file."
   ]
  },
  {
   "cell_type": "markdown",
   "id": "c78239cf",
   "metadata": {},
   "source": [
    "# App Extension Communication\n",
    "\n",
    "Communication will happen in 3 different ways:\n",
    "1) via App Groups\n",
    "2) via NEAppMessage\n",
    "3) via UserNotifications\n",
    "\n",
    "App Groups is used for persistant storage as discussed in the \"On Disk Storage\" section.\n",
    "\n",
    "NEAppMessage will be used for short real time messages, like setting changes or opening/closing the VPN.\n",
    "\n",
    "User Notifcations will push alerts even if the app is closed, which can be used for real time user notifications."
   ]
  },
  {
   "cell_type": "code",
   "execution_count": null,
   "id": "a877f075",
   "metadata": {
    "vscode": {
     "languageId": "plaintext"
    }
   },
   "outputs": [],
   "source": [
    "// In host app\n",
    "let manager = NETunnelProviderManager.shared()\n",
    "let message: [String: Any] = [\"window\": 60, \"sensitivity\": \"high\"]\n",
    "let data = try! JSONSerialization.data(withJSONObject: message)\n",
    "\n",
    "manager.connection as? NETunnelProviderSession?.sendProviderMessage(data) { response in\n",
    "    if let resp = response {\n",
    "        print(\"Extension acknowledged: \\(resp)\")\n",
    "    }\n",
    "}"
   ]
  },
  {
   "cell_type": "code",
   "execution_count": null,
   "id": "467f2fb9",
   "metadata": {
    "vscode": {
     "languageId": "plaintext"
    }
   },
   "outputs": [],
   "source": [
    "// In PacketTunnelProvider\n",
    "override func handleAppMessage(_ messageData: Data,\n",
    "                               completionHandler: ((Data?) -> Void)?) {\n",
    "    if let dict = try? JSONSerialization.jsonObject(with: messageData) as? [String: Any] {\n",
    "        print(\"Received settings: \\(dict)\")\n",
    "        // Update internal config here\n",
    "    }\n",
    "    completionHandler?(\"OK\".data(using: .utf8))\n",
    "}"
   ]
  },
  {
   "cell_type": "markdown",
   "id": "7b54ff6f",
   "metadata": {},
   "source": [
    "The previous two sections of code is how to manage App Messages. This is a lightweight example which will need more development.\n",
    "\n",
    "The next two sections of code is for User Notifications. First it requests permission and then how to send a notification. Again, more development is needed."
   ]
  },
  {
   "cell_type": "code",
   "execution_count": null,
   "id": "084b7ee9",
   "metadata": {
    "vscode": {
     "languageId": "plaintext"
    }
   },
   "outputs": [],
   "source": [
    "// Request Permission\n",
    "import UserNotifications\n",
    "\n",
    "UNUserNotificationCenter.current().requestAuthorization(\n",
    "    options: [.alert, .sound, .badge]\n",
    ") { granted, error in\n",
    "    print(\"Notifications granted: \\(granted)\")\n",
    "}"
   ]
  },
  {
   "cell_type": "code",
   "execution_count": null,
   "id": "a88bc17f",
   "metadata": {
    "vscode": {
     "languageId": "plaintext"
    }
   },
   "outputs": [],
   "source": [
    "//Send Notification\n",
    "import UserNotifications\n",
    "\n",
    "let content = UNMutableNotificationContent()\n",
    "content.title = \"Network Alert\"\n",
    "content.body = \"Potential location-sharing detected\"\n",
    "content.sound = .default\n",
    "\n",
    "let request = UNNotificationRequest(identifier: UUID().uuidString,\n",
    "                                    content: content,\n",
    "                                    trigger: nil)\n",
    "\n",
    "UNUserNotificationCenter.current().add(request) { error in\n",
    "    if let error = error {\n",
    "        print(\"Notification error: \\(error)\")\n",
    "    }\n",
    "}"
   ]
  },
  {
   "cell_type": "markdown",
   "id": "d288f751",
   "metadata": {},
   "source": [
    "# Host app: VPN session management\n",
    "\n",
    "This part will consist of 3 core components:\n",
    "1) NETunnelProviderManager\n",
    "2) NETunnelProviderSession\n",
    "3) Persistence \n",
    "\n",
    "Workflow:\n",
    "1) Load or create the manager\n",
    "2) Set protocol and provider\n",
    "3) Save to preferences\n",
    "4) Starting and stopping\n",
    "\n",
    "The following is a simple example of how to implement this."
   ]
  },
  {
   "cell_type": "code",
   "execution_count": null,
   "id": "6e215623",
   "metadata": {
    "vscode": {
     "languageId": "plaintext"
    }
   },
   "outputs": [],
   "source": [
    "// Load or create VPN manager\n",
    "NETunnelProviderManager.loadAllFromPreferences { managers, error in\n",
    "    let manager = managers?.first ?? NETunnelProviderManager()\n",
    "\n",
    "    let proto = NETunnelProviderProtocol()\n",
    "    proto.providerBundleIdentifier = \"com.yourcompany.YourApp.PacketTunnel\"\n",
    "    proto.serverAddress = \"127.0.0.1\" // dummy, required\n",
    "\n",
    "    manager.protocolConfiguration = proto\n",
    "    manager.localizedDescription = \"Traffic Monitor VPN\"\n",
    "\n",
    "    manager.isEnabled = true\n",
    "\n",
    "    // Save to preferences\n",
    "    manager.saveToPreferences { error in\n",
    "        if error == nil {\n",
    "            print(\"VPN config saved\")\n",
    "        }\n",
    "    }\n",
    "}\n",
    "\n",
    "// Start VPN\n",
    "manager.connection as? NETunnelProviderSession?.startVPNTunnel()\n",
    "\n",
    "// Stop VPN\n",
    "manager.connection as? NETunnelProviderSession?.stopVPNTunnel()"
   ]
  },
  {
   "cell_type": "markdown",
   "id": "073bfbf2",
   "metadata": {},
   "source": [
    "The first time, the system will prompt the user to allow the configurations.\n",
    "\n",
    "Another thing to consider is only one VPN extension can run at a time on iOS.\n",
    "\n",
    "The Host App will have the VPN controller, while the extension will have the VPN engine"
   ]
  },
  {
   "cell_type": "markdown",
   "id": "701f69f4",
   "metadata": {},
   "source": [
    "# Running the ML model\n",
    "\n",
    "First we need to import the ML model. In python, a library called \"coremltools\" is needed to convert the model to a model that iOS can use.\n",
    "\n",
    "Next we need to load and run the model within the extension. This is necessary for real time predictions. The following is example code of how to do that."
   ]
  },
  {
   "cell_type": "code",
   "execution_count": null,
   "id": "6756cd6b",
   "metadata": {
    "vscode": {
     "languageId": "plaintext"
    }
   },
   "outputs": [],
   "source": [
    "// Load model\n",
    "let model = try? MyTrafficModel(configuration: MLModelConfiguration())\n",
    "\n",
    "// Make prediction (input depends on model's expected format)\n",
    "if let output = try? model.prediction(input: inputData) {\n",
    "    if output.label == \"location_sharing\" {\n",
    "        triggerNotification(\"Possible location-sharing detected\")\n",
    "    }\n",
    "}"
   ]
  },
  {
   "cell_type": "markdown",
   "id": "f876abb6",
   "metadata": {},
   "source": [
    "This will work in unison with the UserNotification library, to send notifications on a successful identification of location sharing packets.\n",
    "\n",
    "Finally, we will need to develop a ML model context trigger, which will send the current bag of packets to the model. This is necessary so we do not run the model continously, only when the necessary requirements are met."
   ]
  },
  {
   "cell_type": "markdown",
   "id": "ba11ca1e",
   "metadata": {},
   "source": [
    "# UI (SwiftUI)\n",
    "\n",
    "We will need several different \"views\". Views are different app screens.\n",
    "1) Status View\n",
    "2) Detection Log (History) View\n",
    "3) Settings View\n",
    "\n",
    "We will navigate this with a tab based layout. The following is a basic example of this."
   ]
  },
  {
   "cell_type": "code",
   "execution_count": null,
   "id": "82327119",
   "metadata": {
    "vscode": {
     "languageId": "plaintext"
    }
   },
   "outputs": [],
   "source": [
    "import SwiftUI\n",
    "\n",
    "struct ContentView: View {\n",
    "    var body: some View {\n",
    "        TabView {\n",
    "            StatusView()\n",
    "                .tabItem {\n",
    "                    Label(\"Status\", systemImage: \"network\")\n",
    "                }\n",
    "            \n",
    "            LogView()\n",
    "                .tabItem {\n",
    "                    Label(\"Logs\", systemImage: \"list.bullet\")\n",
    "                }\n",
    "            \n",
    "            SettingsView()\n",
    "                .tabItem {\n",
    "                    Label(\"Settings\", systemImage: \"gear\")\n",
    "                }\n",
    "        }\n",
    "    }\n",
    "}\n",
    "\n",
    "// Placeholder views for each tab\n",
    "struct StatusView: View {\n",
    "    var body: some View {\n",
    "        VStack {\n",
    "            Text(\"VPN Status: Running\")\n",
    "        }\n",
    "        .padding()\n",
    "    }\n",
    "}\n",
    "\n",
    "struct LogView: View {\n",
    "    var body: some View {\n",
    "        VStack {\n",
    "            Text(\"Recent Detection Logs\")\n",
    "        }\n",
    "        .padding()\n",
    "    }\n",
    "}\n",
    "\n",
    "struct SettingsView: View {\n",
    "    var body: some View {\n",
    "        VStack {\n",
    "            Text(\"Settings\")\n",
    "        }\n",
    "        .padding()\n",
    "    }\n",
    "}\n",
    "\n",
    "// Preview for Xcode\n",
    "struct ContentView_Previews: PreviewProvider {\n",
    "    static var previews: some View {\n",
    "        ContentView()\n",
    "    }\n",
    "}"
   ]
  },
  {
   "cell_type": "markdown",
   "id": "12ccbd7f",
   "metadata": {},
   "source": [
    "# Trouble Shooting\n",
    "\n",
    "A real iOS device is needed to test networking code. While plugged in, you can build to target device, which will create an example app the hosts the app and the extension.\n",
    "\n",
    "To test the extension, you would need to:\n",
    "1) Connect the device to the mac via USB or USB-C\n",
    "2) Trust the developer profile\n",
    "    * Settings -> General -> Device Management -> Trust your development certificate.\n",
    "3) Ensure all extensions are set up on in the Xcode project\n",
    "4) Select device as target for the build\n",
    "5) Run from Xcode\n",
    "6) VPN will ask for authorization the first time\n",
    "7) Rebuild and reinstall when extension logic is changed\n",
    "\n",
    "For testing other features, we can use the similulator. This will be useful for UI mainly."
   ]
  },
  {
   "cell_type": "markdown",
   "id": "a0c601ee",
   "metadata": {},
   "source": [
    "## Disclaimer\n",
    "\n",
    "Do not trust the code provided too much. This was either pulled from websites or basic adaptations of it without testing.\n",
    "\n",
    "I made this file because I currently cannot code on a Mac device, and this file should help speed things along."
   ]
  }
 ],
 "metadata": {
  "language_info": {
   "name": "python"
  }
 },
 "nbformat": 4,
 "nbformat_minor": 5
}
